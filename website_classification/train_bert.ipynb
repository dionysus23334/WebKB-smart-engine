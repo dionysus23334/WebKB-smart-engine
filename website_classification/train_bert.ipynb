{
 "cells": [
  {
   "cell_type": "code",
   "execution_count": 1,
   "metadata": {},
   "outputs": [
    {
     "name": "stdout",
     "output_type": "stream",
     "text": [
      "['course' 'department' 'faculty' 'other' 'project' 'staff' 'student']\n"
     ]
    }
   ],
   "source": [
    "from sklearn.metrics import accuracy_score, classification_report\n",
    "import torch\n",
    "from tqdm import tqdm\n",
    "from transformers import BertTokenizer, BertForSequenceClassification\n",
    "from sklearn.preprocessing import LabelEncoder\n",
    "from torch.utils.data import DataLoader, TensorDataset\n",
    "from sklearn.model_selection import train_test_split\n",
    "from sklearn.svm import SVC\n",
    "from sklearn.naive_bayes import GaussianNB\n",
    "import pandas as pd\n",
    "import matplotlib.pyplot as plt\n",
    "import numpy as np\n",
    "from sklearn.preprocessing import MinMaxScaler\n",
    "from sklearn.metrics import ConfusionMatrixDisplay, confusion_matrix\n",
    "import warnings\n",
    "import re\n",
    "from bs4 import BeautifulSoup\n",
    "import os\n",
    "\n",
    "warnings.filterwarnings(\"ignore\", category=FutureWarning)\n",
    "\n",
    "csv_file = \"./data/collected_content.csv\"\n",
    "df = pd.read_csv(csv_file,encoding='gbk')\n",
    "y = df.iloc[:,1]\n",
    "df = df.dropna(subset=['Content', 'Class'])\n",
    "def clean_text(text):\n",
    "    text = re.sub(r'\\s+', ' ', text)  # 移除多余空格\n",
    "    text = re.sub(r'[^a-zA-Z0-9\\u4e00-\\u9fa5 ]', '', text)  # 保留中英文和数字\n",
    "    return text\n",
    "\n",
    "df['Content'] = df['Content'].apply(clean_text)\n",
    "def clean_html(content):\n",
    "    soup = BeautifulSoup(content, \"html.parser\")\n",
    "    return soup.get_text()\n",
    "\n",
    "df['Content'] = df['Content'].apply(clean_html)\n",
    "X = df['Content']\n",
    "y = df['Class']\n",
    "X_train, X_test, y_train, y_test = train_test_split(X, y, test_size=0.2, random_state=42)\n",
    "# 创建标签编码器\n",
    "label_encoder = LabelEncoder()\n",
    "\n",
    "# 将分类标签转换为数值\n",
    "y_train_encoded = label_encoder.fit_transform(y_train)\n",
    "y_test_encoded = label_encoder.transform(y_test)\n",
    "\n",
    "print(label_encoder.classes_)  # 查看标签对应的数值编码\n",
    "# 定义分类类别数量\n",
    "num_classes = len(label_encoder.classes_)\n",
    "# 分词和编码文本\n",
    "def tokenize_data(texts, labels, tokenizer, max_length=512):\n",
    "    inputs = tokenizer(texts.tolist(), max_length=max_length, padding=True, truncation=True, return_tensors=\"pt\")\n",
    "    return inputs, torch.tensor(labels, dtype=torch.long)\n",
    "# 分词器\n",
    "tokenizer = BertTokenizer.from_pretrained('bert-base-uncased')\n",
    "\n",
    "train_inputs, train_labels = tokenize_data(X_train, y_train_encoded, tokenizer)\n",
    "test_inputs, test_labels = tokenize_data(X_test, y_test_encoded, tokenizer)\n",
    "train_dataset = TensorDataset(train_inputs['input_ids'], train_inputs['attention_mask'], train_labels)\n",
    "train_dataloader = DataLoader(train_dataset, batch_size=32, shuffle=True, num_workers=4, pin_memory=True)\n",
    "\n",
    "test_dataset = TensorDataset(test_inputs['input_ids'], test_inputs['attention_mask'], test_labels)\n",
    "test_dataloader = DataLoader(test_dataset, batch_size=32, shuffle=False, num_workers=4, pin_memory=True)\n"
   ]
  },
  {
   "cell_type": "code",
   "execution_count": 4,
   "metadata": {},
   "outputs": [
    {
     "name": "stdout",
     "output_type": "stream",
     "text": [
      "Using device: cpu\n"
     ]
    },
    {
     "name": "stderr",
     "output_type": "stream",
     "text": [
      "Some weights of BertForSequenceClassification were not initialized from the model checkpoint at bert-base-uncased and are newly initialized: ['classifier.bias', 'classifier.weight']\n",
      "You should probably TRAIN this model on a down-stream task to be able to use it for predictions and inference.\n"
     ]
    },
    {
     "name": "stdout",
     "output_type": "stream",
     "text": [
      "Model loaded successfully!\n",
      "Optimizer loaded successfully!\n"
     ]
    }
   ],
   "source": [
    "# 检查模型文件是否存在\n",
    "model_path = \"model_weights.pth\"\n",
    "optimizer_path = \"optimizer_state.pth\"\n",
    "\n",
    "# device = torch.device(\"cuda\" if torch.cuda.is_available() else \"cpu\")\n",
    "device = torch.device('cpu')\n",
    "print(f\"Using device: {device}\")\n",
    "\n",
    "# 判断是否已有模型文件\n",
    "if os.path.exists(model_path):\n",
    "    # 如果模型文件存在，加载模型和优化器\n",
    "    model = BertForSequenceClassification.from_pretrained(\"bert-base-uncased\", num_labels=num_classes)\n",
    "    model.load_state_dict(torch.load(model_path))\n",
    "    model.to(device)\n",
    "    print(\"Model loaded successfully!\")\n",
    "\n",
    "    # 加载优化器（如果存在优化器文件）\n",
    "    optimizer = torch.optim.AdamW(model.parameters(), lr=2e-5)\n",
    "    if os.path.exists(optimizer_path):\n",
    "        optimizer.load_state_dict(torch.load(optimizer_path))\n",
    "        print(\"Optimizer loaded successfully!\")\n",
    "else:\n",
    "    # 如果模型文件不存在，创建新模型并开始训练\n",
    "    model = BertForSequenceClassification.from_pretrained(\"bert-base-uncased\", num_labels=num_classes)\n",
    "    model.to(device)\n",
    "    print(\"New model created for training.\")\n",
    "\n",
    "    # 定义优化器\n",
    "    optimizer = torch.optim.AdamW(model.parameters(), lr=2e-5)\n"
   ]
  },
  {
   "cell_type": "code",
   "execution_count": 5,
   "metadata": {},
   "outputs": [
    {
     "name": "stderr",
     "output_type": "stream",
     "text": [
      "100%|██████████| 208/208 [5:05:56<00:00, 88.25s/it]  "
     ]
    },
    {
     "name": "stdout",
     "output_type": "stream",
     "text": [
      "Epoch 1 completed. Loss: 0.02621440216898918\n"
     ]
    },
    {
     "name": "stderr",
     "output_type": "stream",
     "text": [
      "\n"
     ]
    }
   ],
   "source": [
    "\n",
    "for epoch in range(1):  # 训练1个epoch\n",
    "    for batch in tqdm(train_dataloader):\n",
    "        input_ids, attention_mask, labels = batch\n",
    "        optimizer.zero_grad()\n",
    "        outputs = model(input_ids, attention_mask=attention_mask, labels=labels)\n",
    "        loss = outputs.loss\n",
    "        loss.backward()\n",
    "        optimizer.step()\n",
    "    print(f\"Epoch {epoch+1} completed. Loss: {loss.item()}\")\n"
   ]
  },
  {
   "cell_type": "code",
   "execution_count": 6,
   "metadata": {},
   "outputs": [],
   "source": [
    "# 保存模型的 state_dict\n",
    "torch.save(model.state_dict(), \"model_weights.pth\")\n",
    "# 保存优化器的状态字典\n",
    "torch.save(optimizer.state_dict(), \"optimizer_state.pth\")\n",
    "# 保存整个模型对象（不推荐，但可以使用）\n",
    "torch.save(model, \"complete_model.pth\")\n"
   ]
  },
  {
   "cell_type": "code",
   "execution_count": 7,
   "metadata": {},
   "outputs": [
    {
     "name": "stderr",
     "output_type": "stream",
     "text": [
      "100%|██████████| 52/52 [23:41<00:00, 27.33s/it]"
     ]
    },
    {
     "name": "stdout",
     "output_type": "stream",
     "text": [
      "Accuracy: 0.9149\n",
      "Classification Report:\n",
      " {'0': {'precision': 0.9702380952380952, 'recall': 0.8578947368421053, 'f1-score': 0.9106145251396648, 'support': 190.0}, '1': {'precision': 0.8620689655172413, 'recall': 1.0, 'f1-score': 0.9259259259259259, 'support': 25.0}, '2': {'precision': 0.9471153846153846, 'recall': 0.8418803418803419, 'f1-score': 0.8914027149321265, 'support': 234.0}, '3': {'precision': 0.9304677623261695, 'recall': 0.9722589167767504, 'f1-score': 0.9509043927648579, 'support': 757.0}, '4': {'precision': 0.9111111111111111, 'recall': 0.8367346938775511, 'f1-score': 0.8723404255319148, 'support': 98.0}, '5': {'precision': 0.0, 'recall': 0.0, 'f1-score': 0.0, 'support': 35.0}, '6': {'precision': 0.8436657681940701, 'recall': 0.9842767295597484, 'f1-score': 0.9085631349782294, 'support': 318.0}, 'accuracy': 0.9149064574532287, 'macro avg': {'precision': 0.7806667267145817, 'recall': 0.7847207741337853, 'f1-score': 0.7799644456103885, 'support': 1657.0}, 'weighted avg': {'precision': 0.8988899586533992, 'recall': 0.9149064574532287, 'f1-score': 0.9046470773488255, 'support': 1657.0}}\n"
     ]
    },
    {
     "name": "stderr",
     "output_type": "stream",
     "text": [
      "\n",
      "d:\\Python\\lib\\site-packages\\sklearn\\metrics\\_classification.py:1469: UndefinedMetricWarning: Precision and F-score are ill-defined and being set to 0.0 in labels with no predicted samples. Use `zero_division` parameter to control this behavior.\n",
      "  _warn_prf(average, modifier, msg_start, len(result))\n",
      "d:\\Python\\lib\\site-packages\\sklearn\\metrics\\_classification.py:1469: UndefinedMetricWarning: Precision and F-score are ill-defined and being set to 0.0 in labels with no predicted samples. Use `zero_division` parameter to control this behavior.\n",
      "  _warn_prf(average, modifier, msg_start, len(result))\n",
      "d:\\Python\\lib\\site-packages\\sklearn\\metrics\\_classification.py:1469: UndefinedMetricWarning: Precision and F-score are ill-defined and being set to 0.0 in labels with no predicted samples. Use `zero_division` parameter to control this behavior.\n",
      "  _warn_prf(average, modifier, msg_start, len(result))\n"
     ]
    }
   ],
   "source": [
    "from sklearn.metrics import accuracy_score, classification_report\n",
    "import torch\n",
    "from tqdm import tqdm\n",
    "\n",
    "# 将模型切换到评估模式\n",
    "model.eval()\n",
    "\n",
    "# 初始化存储预测结果的列表\n",
    "predictions = []\n",
    "true_labels = []\n",
    "\n",
    "# 使用测试集的 DataLoader\n",
    "with torch.no_grad():  # 禁用梯度计算\n",
    "    for batch in tqdm(test_dataloader):  # 使用测试集的 DataLoader\n",
    "        input_ids = batch[0]\n",
    "        attention_mask = batch[1]\n",
    "        labels = batch[2]\n",
    "\n",
    "        # 前向传播\n",
    "        outputs = model(input_ids, attention_mask=attention_mask, labels=labels)\n",
    "        logits = outputs.logits\n",
    "        \n",
    "\n",
    "        # 获取预测类别\n",
    "        preds = torch.argmax(logits, dim=-1)\n",
    "\n",
    "        # 存储结果\n",
    "        predictions.extend(preds.cpu().numpy())  # 将结果从 GPU 移到 CPU\n",
    "        true_labels.extend(labels.cpu().numpy())\n",
    "\n",
    "# 计算准确率\n",
    "accuracy = accuracy_score(true_labels, predictions)\n",
    "print(f\"Accuracy: {accuracy:.4f}\")\n",
    "\n",
    "# 计算分类报告（包括精确度、召回率、F1 得分）\n",
    "report = classification_report(true_labels, predictions, output_dict=True)\n",
    "print(\"Classification Report:\\n\", report)\n",
    "\n",
    "# 将准确率写入文件\n",
    "with open(\"model_accuracy.txt\", \"w\") as f:\n",
    "    f.write(f\"Accuracy: {accuracy:.4f}\\n\")\n",
    "    f.write(\"Classification Report:\\n\")\n",
    "    f.write(str(report))\n"
   ]
  },
  {
   "cell_type": "code",
   "execution_count": 8,
   "metadata": {},
   "outputs": [
    {
     "data": {
      "image/png": "[encoded data removed]",
      "text/plain": [
       "<Figure size 1000x600 with 2 Axes>"
      ]
     },
     "metadata": {},
     "output_type": "display_data"
    }
   ],
   "source": [
    "import matplotlib.pyplot as plt\n",
    "import seaborn as sns\n",
    "import pandas as pd\n",
    "\n",
    "# 给定的分类结果字典\n",
    "metrics = {\n",
    "    '0': {'precision': 0.9702380952380952, 'recall': 0.8578947368421053, 'f1-score': 0.9106145251396648, 'support': 190.0},\n",
    "    '1': {'precision': 0.8620689655172413, 'recall': 1.0, 'f1-score': 0.9259259259259259, 'support': 25.0},\n",
    "    '2': {'precision': 0.9471153846153846, 'recall': 0.8418803418803419, 'f1-score': 0.8914027149321265, 'support': 234.0},\n",
    "    '3': {'precision': 0.9304677623261695, 'recall': 0.9722589167767504, 'f1-score': 0.9509043927648579, 'support': 757.0},\n",
    "    '4': {'precision': 0.9111111111111111, 'recall': 0.8367346938775511, 'f1-score': 0.8723404255319148, 'support': 98.0},\n",
    "    '5': {'precision': 0.0, 'recall': 0.0, 'f1-score': 0.0, 'support': 35.0},\n",
    "    '6': {'precision': 0.8436657681940701, 'recall': 0.9842767295597484, 'f1-score': 0.9085631349782294, 'support': 318.0},\n",
    "    'accuracy': 0.9149064574532287,\n",
    "    'macro avg': {'precision': 0.7806667267145817, 'recall': 0.7847207741337853, 'f1-score': 0.7799644456103885, 'support': 1657.0},\n",
    "    'weighted avg': {'precision': 0.8988899586533992, 'recall': 0.9149064574532287, 'f1-score': 0.9046470773488255, 'support': 1657.0}\n",
    "}\n",
    "\n",
    "# 类别标签\n",
    "labels = ['course', 'department', 'faculty', 'other', 'project', 'staff', 'student']\n",
    "\n",
    "# 从字典中提取各项指标\n",
    "precision = [metrics[str(i)]['precision'] for i in range(7)]\n",
    "recall = [metrics[str(i)]['recall'] for i in range(7)]\n",
    "f1_score = [metrics[str(i)]['f1-score'] for i in range(7)]\n",
    "\n",
    "# 将结果转换为 DataFrame\n",
    "df = pd.DataFrame({\n",
    "    'Precision': precision,\n",
    "    'Recall': recall,\n",
    "    'F1-Score': f1_score\n",
    "}, index=labels)\n",
    "\n",
    "# 创建热图\n",
    "plt.figure(figsize=(10, 6))\n",
    "sns.heatmap(df.T, annot=True, cmap='Blues', cbar=True, fmt='.2f', linewidths=0.5)\n",
    "\n",
    "# 添加标题和标签\n",
    "plt.title(\"Classification Report Heatmap\")\n",
    "plt.xlabel(\"Classes\")\n",
    "plt.ylabel(\"Metrics\")\n",
    "plt.show()\n"
   ]
  },
  {
   "cell_type": "code",
   "execution_count": 9,
   "metadata": {},
   "outputs": [
    {
     "data": {
      "text/html": [
       "<div>\n",
       "<style scoped>\n",
       "    .dataframe tbody tr th:only-of-type {\n",
       "        vertical-align: middle;\n",
       "    }\n",
       "\n",
       "    .dataframe tbody tr th {\n",
       "        vertical-align: top;\n",
       "    }\n",
       "\n",
       "    .dataframe thead th {\n",
       "        text-align: right;\n",
       "    }\n",
       "</style>\n",
       "<table border=\"1\" class=\"dataframe\">\n",
       "  <thead>\n",
       "    <tr style=\"text-align: right;\">\n",
       "      <th></th>\n",
       "      <th>Precision</th>\n",
       "      <th>Recall</th>\n",
       "      <th>F1-Score</th>\n",
       "    </tr>\n",
       "  </thead>\n",
       "  <tbody>\n",
       "    <tr>\n",
       "      <th>course</th>\n",
       "      <td>0.970238</td>\n",
       "      <td>0.857895</td>\n",
       "      <td>0.910615</td>\n",
       "    </tr>\n",
       "    <tr>\n",
       "      <th>department</th>\n",
       "      <td>0.862069</td>\n",
       "      <td>1.000000</td>\n",
       "      <td>0.925926</td>\n",
       "    </tr>\n",
       "    <tr>\n",
       "      <th>faculty</th>\n",
       "      <td>0.947115</td>\n",
       "      <td>0.841880</td>\n",
       "      <td>0.891403</td>\n",
       "    </tr>\n",
       "    <tr>\n",
       "      <th>other</th>\n",
       "      <td>0.930468</td>\n",
       "      <td>0.972259</td>\n",
       "      <td>0.950904</td>\n",
       "    </tr>\n",
       "    <tr>\n",
       "      <th>project</th>\n",
       "      <td>0.911111</td>\n",
       "      <td>0.836735</td>\n",
       "      <td>0.872340</td>\n",
       "    </tr>\n",
       "    <tr>\n",
       "      <th>staff</th>\n",
       "      <td>0.000000</td>\n",
       "      <td>0.000000</td>\n",
       "      <td>0.000000</td>\n",
       "    </tr>\n",
       "    <tr>\n",
       "      <th>student</th>\n",
       "      <td>0.843666</td>\n",
       "      <td>0.984277</td>\n",
       "      <td>0.908563</td>\n",
       "    </tr>\n",
       "  </tbody>\n",
       "</table>\n",
       "</div>"
      ],
      "text/plain": [
       "            Precision    Recall  F1-Score\n",
       "course       0.970238  0.857895  0.910615\n",
       "department   0.862069  1.000000  0.925926\n",
       "faculty      0.947115  0.841880  0.891403\n",
       "other        0.930468  0.972259  0.950904\n",
       "project      0.911111  0.836735  0.872340\n",
       "staff        0.000000  0.000000  0.000000\n",
       "student      0.843666  0.984277  0.908563"
      ]
     },
     "execution_count": 9,
     "metadata": {},
     "output_type": "execute_result"
    }
   ],
   "source": [
    "df"
   ]
  },
  {
   "cell_type": "code",
   "execution_count": 29,
   "metadata": {},
   "outputs": [],
   "source": [
    "csv_file = \"./data/collected_content.csv\"\n",
    "df = pd.read_csv(csv_file,encoding='gbk')"
   ]
  },
  {
   "cell_type": "code",
   "execution_count": 31,
   "metadata": {},
   "outputs": [
    {
     "data": {
      "text/html": [
       "<div>\n",
       "<style scoped>\n",
       "    .dataframe tbody tr th:only-of-type {\n",
       "        vertical-align: middle;\n",
       "    }\n",
       "\n",
       "    .dataframe tbody tr th {\n",
       "        vertical-align: top;\n",
       "    }\n",
       "\n",
       "    .dataframe thead th {\n",
       "        text-align: right;\n",
       "    }\n",
       "</style>\n",
       "<table border=\"1\" class=\"dataframe\">\n",
       "  <thead>\n",
       "    <tr style=\"text-align: right;\">\n",
       "      <th></th>\n",
       "      <th>University</th>\n",
       "      <th>Class</th>\n",
       "      <th>Content</th>\n",
       "      <th>Filename</th>\n",
       "    </tr>\n",
       "  </thead>\n",
       "  <tbody>\n",
       "    <tr>\n",
       "      <th>8211</th>\n",
       "      <td>cornell</td>\n",
       "      <td>staff</td>\n",
       "      <td>MIME-Version: 1.0 Server: CERN/3.0 Date: Wedne...</td>\n",
       "      <td>http:^^www.cs.cornell.edu^Info^People^frank^fr...</td>\n",
       "    </tr>\n",
       "    <tr>\n",
       "      <th>8212</th>\n",
       "      <td>cornell</td>\n",
       "      <td>staff</td>\n",
       "      <td>MIME-Version: 1.0 Server: CERN/3.0 Date: Sunda...</td>\n",
       "      <td>http:^^simon.cs.cornell.edu^Info^People^vogels^</td>\n",
       "    </tr>\n",
       "    <tr>\n",
       "      <th>8213</th>\n",
       "      <td>cornell</td>\n",
       "      <td>staff</td>\n",
       "      <td>MIME-Version: 1.0 Server: CERN/3.0 Date: Wedne...</td>\n",
       "      <td>http:^^www.cs.cornell.edu^Info^People^csun^sun...</td>\n",
       "    </tr>\n",
       "    <tr>\n",
       "      <th>8214</th>\n",
       "      <td>cornell</td>\n",
       "      <td>staff</td>\n",
       "      <td>MIME-Version: 1.0 Server: CERN/3.0 Date: Wedne...</td>\n",
       "      <td>http:^^www.cs.cornell.edu^Info^Department^Annu...</td>\n",
       "    </tr>\n",
       "    <tr>\n",
       "      <th>8215</th>\n",
       "      <td>cornell</td>\n",
       "      <td>staff</td>\n",
       "      <td>MIME-Version: 1.0 Server: CERN/3.0 Date: Wedne...</td>\n",
       "      <td>http:^^www.cs.cornell.edu^Info^People^jackson^...</td>\n",
       "    </tr>\n",
       "    <tr>\n",
       "      <th>...</th>\n",
       "      <td>...</td>\n",
       "      <td>...</td>\n",
       "      <td>...</td>\n",
       "      <td>...</td>\n",
       "    </tr>\n",
       "    <tr>\n",
       "      <th>8343</th>\n",
       "      <td>wisconsin</td>\n",
       "      <td>staff</td>\n",
       "      <td>Date: Thu  07 Nov 1996 19:10:11 GMT Server: NC...</td>\n",
       "      <td>http:^^www.cs.wisc.edu^~naim^naim.html</td>\n",
       "    </tr>\n",
       "    <tr>\n",
       "      <th>8344</th>\n",
       "      <td>wisconsin</td>\n",
       "      <td>staff</td>\n",
       "      <td>Date: Fri  15 Nov 1996 00:17:56 GMT Server: NC...</td>\n",
       "      <td>http:^^www.cs.wisc.edu^~curt^curt.html</td>\n",
       "    </tr>\n",
       "    <tr>\n",
       "      <th>8345</th>\n",
       "      <td>texas</td>\n",
       "      <td>staff</td>\n",
       "      <td>MIME-Version: 1.0 Server: CERN/3.0 Date: Monda...</td>\n",
       "      <td>http:^^www.cs.utexas.edu^users^pkn^</td>\n",
       "    </tr>\n",
       "    <tr>\n",
       "      <th>8346</th>\n",
       "      <td>texas</td>\n",
       "      <td>staff</td>\n",
       "      <td>MIME-Version: 1.0 Server: CERN/3.0 Date: Monda...</td>\n",
       "      <td>http:^^www.cs.utexas.edu^users^souther^</td>\n",
       "    </tr>\n",
       "    <tr>\n",
       "      <th>8347</th>\n",
       "      <td>texas</td>\n",
       "      <td>staff</td>\n",
       "      <td>MIME-Version: 1.0 Server: CERN/3.0 Date: Monda...</td>\n",
       "      <td>http:^^www.cs.utexas.edu^users^jbc^</td>\n",
       "    </tr>\n",
       "  </tbody>\n",
       "</table>\n",
       "<p>137 rows × 4 columns</p>\n",
       "</div>"
      ],
      "text/plain": [
       "     University  Class                                            Content  \\\n",
       "8211    cornell  staff  MIME-Version: 1.0 Server: CERN/3.0 Date: Wedne...   \n",
       "8212    cornell  staff  MIME-Version: 1.0 Server: CERN/3.0 Date: Sunda...   \n",
       "8213    cornell  staff  MIME-Version: 1.0 Server: CERN/3.0 Date: Wedne...   \n",
       "8214    cornell  staff  MIME-Version: 1.0 Server: CERN/3.0 Date: Wedne...   \n",
       "8215    cornell  staff  MIME-Version: 1.0 Server: CERN/3.0 Date: Wedne...   \n",
       "...         ...    ...                                                ...   \n",
       "8343  wisconsin  staff  Date: Thu  07 Nov 1996 19:10:11 GMT Server: NC...   \n",
       "8344  wisconsin  staff  Date: Fri  15 Nov 1996 00:17:56 GMT Server: NC...   \n",
       "8345      texas  staff  MIME-Version: 1.0 Server: CERN/3.0 Date: Monda...   \n",
       "8346      texas  staff  MIME-Version: 1.0 Server: CERN/3.0 Date: Monda...   \n",
       "8347      texas  staff  MIME-Version: 1.0 Server: CERN/3.0 Date: Monda...   \n",
       "\n",
       "                                               Filename  \n",
       "8211  http:^^www.cs.cornell.edu^Info^People^frank^fr...  \n",
       "8212    http:^^simon.cs.cornell.edu^Info^People^vogels^  \n",
       "8213  http:^^www.cs.cornell.edu^Info^People^csun^sun...  \n",
       "8214  http:^^www.cs.cornell.edu^Info^Department^Annu...  \n",
       "8215  http:^^www.cs.cornell.edu^Info^People^jackson^...  \n",
       "...                                                 ...  \n",
       "8343             http:^^www.cs.wisc.edu^~naim^naim.html  \n",
       "8344             http:^^www.cs.wisc.edu^~curt^curt.html  \n",
       "8345                http:^^www.cs.utexas.edu^users^pkn^  \n",
       "8346            http:^^www.cs.utexas.edu^users^souther^  \n",
       "8347                http:^^www.cs.utexas.edu^users^jbc^  \n",
       "\n",
       "[137 rows x 4 columns]"
      ]
     },
     "execution_count": 31,
     "metadata": {},
     "output_type": "execute_result"
    }
   ],
   "source": [
    "df[df['Class']=='staff']"
   ]
  },
  {
   "cell_type": "code",
   "execution_count": 33,
   "metadata": {},
   "outputs": [
    {
     "data": {
      "text/plain": [
       "1657"
      ]
     },
     "execution_count": 33,
     "metadata": {},
     "output_type": "execute_result"
    }
   ],
   "source": [
    "len(test_dataset)"
   ]
  },
  {
   "cell_type": "code",
   "execution_count": 32,
   "metadata": {},
   "outputs": [
    {
     "data": {
      "text/plain": [
       "6625"
      ]
     },
     "execution_count": 32,
     "metadata": {},
     "output_type": "execute_result"
    }
   ],
   "source": [
    "len(train_dataset)"
   ]
  },
  {
   "cell_type": "code",
   "execution_count": 26,
   "metadata": {},
   "outputs": [
    {
     "data": {
      "text/plain": [
       "tensor([3])"
      ]
     },
     "execution_count": 26,
     "metadata": {},
     "output_type": "execute_result"
    }
   ],
   "source": [
    "input_ids = train_dataset[0][0].unsqueeze(0)\n",
    "attention_mask = train_dataset[0][1].unsqueeze(0)\n",
    "labels = train_dataset[0][2]\n",
    "\n",
    "# 前向传播\n",
    "outputs = model(input_ids, attention_mask=attention_mask)\n",
    "logits = outputs.logits\n",
    "\n",
    "\n",
    "# 获取预测类别\n",
    "preds = torch.argmax(logits, dim=-1)\n",
    "\n",
    "preds"
   ]
  },
  {
   "cell_type": "code",
   "execution_count": 27,
   "metadata": {},
   "outputs": [
    {
     "data": {
      "text/plain": [
       "tensor(3)"
      ]
     },
     "execution_count": 27,
     "metadata": {},
     "output_type": "execute_result"
    }
   ],
   "source": [
    "labels"
   ]
  }
 ],
 "metadata": {
  "kernelspec": {
   "display_name": "Python 3",
   "language": "python",
   "name": "python3"
  },
  "language_info": {
   "codemirror_mode": {
    "name": "ipython",
    "version": 3
   },
   "file_extension": ".py",
   "mimetype": "text/x-python",
   "name": "python",
   "nbconvert_exporter": "python",
   "pygments_lexer": "ipython3",
   "version": "3.10.9"
  }
 },
 "nbformat": 4,
 "nbformat_minor": 2
}
